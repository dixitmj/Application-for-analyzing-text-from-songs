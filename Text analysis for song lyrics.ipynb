{
 "cells": [
  {
   "cell_type": "code",
   "execution_count": 1,
   "metadata": {},
   "outputs": [
    {
     "name": "stdout",
     "output_type": "stream",
     "text": [
      "Transcribed Text: scene two of snow white and the seven dwarfs by jesse brown quite this is a lever fox recording all lieber vox recordings are in the public domain for more information for to volunteer please visit weaver fox dot org seemed to gain the police great streets nieto perot wild and over grandpa is after sunset and the light is fading fast small brown butterflies of the channing a little call and hedges energy tax status that snow heightened running day he follows the good yes lizzie brown that i hadn't he he wants in on santa wait until i get my breath she whistles in imitation of the boats call was for you again as soon as you make sure i haven't where are you trying to you does that gold that the ground that again he seems to be trying to get me to follow him effect on that train now waiting for me to come up that led to calls again and snow white tries to retake to colin let's come to light come tourist is that what you trying to say i'm coming i'm coming hand she runs on following the good the tolled comes into sight as he sees how really peaceful teas and how delicate chances hickory trees he holds the mississippi and menaced himself that mess will be here azalea that mile off tomorrow you have put it off to an external some more shuddered swallow but has his snow kindness to the princess hermann maier and children and it must be at it he calls up to snow height and his forces holds princess come back what is it that tells you want me she bounced back and said to hand into his bed then again he seemed to know the way back to the new did you think he can no i'm going to boarding school that that calls again and she announces don't be so impatient as yes they would ethel just as long as i can use them until the friend of mine the new law what if you want the health oh dear princess but he cannot go on why you should continue to get himself she tries to take his hand again but he twelve to twenty and you lead me something i did yes i did you think i do i do thee and the put a few princess scene he used the folha and cry sounded anguish oh say you can forgive me forgive me i don't she tries to raise his ballot heads that she may see his face was it had battled and the princess them to look at me he folds his songs about huh and hides his face and contracts alison the as tommy i'm afraid that we in the queen the queen and ask mom did me to killed u. n. in this forest now looking down at him in one town to me he will do so and it's any schools are you shifting the echo last injection to go back to old and very few genk look at me now to look at me slowly he he really sees his head she reads the truth in his face and the crime springs from him to its took it to the goodies that has led the queen put you know and when we see bethel don't run away to kuwait to you to create a deal on the you won't have me well you all what darling if it were my life alone the torch think i would suffer any torture rather than allaire if you open that a head but the queen who do you mean that the queen will cure human life not to me princess but what children should shut them up in the great top and you'll stop them to death oh good old i know you little children they have drew a line some yellow hat i think of them she would do to she thinks a moment then we fix some resolution goes on to say good-bye battled i couldn't even think of your children c. n. not crying i'm not even that frightens them away and shut my eyes that the three great stack is to it's feet and makes the following movement for his life and he toxicity sinks down again with a crime ha ha i cannot princess i cannot come into the battle of what can you say here to in the low ah ah whoa find some way to avoid a no it's not possible battled it's not possible for me to kill the xian s. battles considering that way the queen has behaved you think it's good to be very wrong to the or starry wrong because of that one trunk mind you tell them that do to me without doing it but the proof which he has wanted me to bring her you'll hot before midnight my house at messina hawks identity as a piece of beef the quick look at all i get twenty eight no but he springs up why don't the hottest some beast how much get to wild pig here in the forest and i but you know the couldn't do your loan you would stop doing that and i think that's on barry's that the winter will calm and over your highness they're all savage beasts in this would an unseen when the thing creation one minute and around that the two straight time bud i was with you but it is growing dog and at night with a few dented the hot to the queen before midnight you know what you will do the man savage beast would be less cruel and you must catch the wild they defied the student to see no plaque in arteries your highness pretending to be struck with a new idea that the old do you find this place again find it in three inches away is branded on my brain than tomorrow night some food in your tunic and come back in and we didn't you might think we're too hot and bring the food every day like him on the ballot and i could live a little known for its princess on my aunt but at least that is you know ahead they said no i'm not so it can say i'm harry is getting doc every moment kiss me good-bye quickly she puts her face up to his budget tomorrow's at solved my princess have to keep you until tomorrow he hastened to play cooling off to him good idea is that those then to himself who battled does he think the queen one of the lesson on to the flight again no she will soften up in prison for fantasy might tell she will never come back to the life and a half old son tennessee says huh look into and i thought at that everybody she stopped after him crying and old don't do that but remembering she clasped hands of the have nots to stifle the crime college so why did they do this to turn the confusion with a little known she sinks to the ground oh look but what shall i do wish don't don't you rephrase and for anything before i eat and she hides her face among the leaks the call of the things i'm brian todd is heard on most of the head of lust it's no hite does not here and at the pizza crying that sounds almost like calm snow white looking up and go and do you do this i used to have the death may i think you're my friend the only friend i have enormous well known the pilot flies so foolishly and unconscious and repeats his call are you telling me to follow you if you didn't fool but unless i followed you know it again i was secondly the new honest with us again the book coals and snow high try aces and follows when he finds yes i would followed my trusty she found such a sight among the trees calling softly as she comes i am coming i am following middle ground that the current unfolds and oppose seen to\n",
      "Word count: 1386\n"
     ]
    }
   ],
   "source": [
    "import speech_recognition as sr\n",
    "from pydub import AudioSegment\n",
    "\n",
    "def convert_mp3_to_wav(mp3_file, wav_file):\n",
    "    sound = AudioSegment.from_mp3(mp3_file)\n",
    "    sound.export(wav_file, format=\"wav\")\n",
    "\n",
    "def transcribe_audio(wav_file):\n",
    "    recognizer = sr.Recognizer()\n",
    "    with sr.AudioFile(wav_file) as source:\n",
    "        audio_data = recognizer.record(source)  # Adjust duration as needed\n",
    "\n",
    "    try:\n",
    "        text = recognizer.recognize_sphinx(audio_data)\n",
    "        return text\n",
    "    except sr.RequestError as e:\n",
    "        print(\"Recognition request failed:\", str(e))\n",
    "    except sr.UnknownValueError:\n",
    "        print(\"Speech recognition could not understand audio\")\n",
    "\n",
    "def analyze_text(text):\n",
    "    # Perform analysis on the transcribed text\n",
    "    # Example: Count words, extract keywords, sentiment analysis, etc.\n",
    "    if text:\n",
    "        word_count = len(text.split())\n",
    "        print(\"Word count:\", word_count)\n",
    "        # Add more analysis as needed\n",
    "    else:\n",
    "        print(\"No text transcribed.\")\n",
    "\n",
    "if __name__ == \"__main__\":\n",
    "    mp3_file = \"/Users/luffy_015/Desktop/6 sem Assign/Adv Assign 2/snow_white/snowwhite_0_white_64kb.mp3\"\n",
    "    wav_file = \"/Users/luffy_015/Desktop/6 sem Assign/Adv Assign 2/snow_white/snowwhite_0_white_64kb.wav\"\n",
    "\n",
    "    # Convert MP3 to WAV\n",
    "    convert_mp3_to_wav(mp3_file, wav_file)\n",
    "\n",
    "    # Transcribe audio to text using Sphinx\n",
    "    transcribed_text = transcribe_audio(wav_file)\n",
    "    if transcribed_text:\n",
    "        print(\"Transcribed Text:\", transcribed_text)\n",
    "\n",
    "        # Perform analysis on the transcribed text\n",
    "        analyze_text(transcribed_text)\n",
    "    else:\n",
    "        print(\"Transcription failed.\")\n"
   ]
  }
 ],
 "metadata": {
  "kernelspec": {
   "display_name": "Python 3",
   "language": "python",
   "name": "python3"
  },
  "language_info": {
   "codemirror_mode": {
    "name": "ipython",
    "version": 3
   },
   "file_extension": ".py",
   "mimetype": "text/x-python",
   "name": "python",
   "nbconvert_exporter": "python",
   "pygments_lexer": "ipython3",
   "version": "3.12.1"
  }
 },
 "nbformat": 4,
 "nbformat_minor": 2
}
